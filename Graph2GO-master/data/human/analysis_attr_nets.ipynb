{
 "cells": [
  {
   "cell_type": "code",
   "execution_count": 2,
   "metadata": {},
   "outputs": [],
   "source": [
    "import numpy as np\n",
    "import pandas as pd\n",
    "import matplotlib.pyplot as plt\n",
    "import os\n",
    "import json"
   ]
  },
  {
   "cell_type": "code",
   "execution_count": 3,
   "metadata": {},
   "outputs": [],
   "source": [
    "all_res = [\"results/\" + x for x in os.listdir(\"results\") if \n",
    "           \"graph2go_nn\" in x]"
   ]
  },
  {
   "cell_type": "code",
   "execution_count": 4,
   "metadata": {},
   "outputs": [],
   "source": [
    "res_cc = [x for x in all_res if \"cc\" in x]\n",
    "res_mf = [x for x in all_res if \"mf\" in x]\n",
    "res_bp = [x for x in all_res if \"bp\" in x]"
   ]
  },
  {
   "cell_type": "code",
   "execution_count": 5,
   "metadata": {},
   "outputs": [],
   "source": [
    "def generate_comparison_tablee(file_list, ontology_range):\n",
    "    df = pd.DataFrame(index = [0,1,2,3,5,6,7],columns=['m-aupr_ppi','m-aupr_similarity','m-aupr_combined',\n",
    "                                             'M-aupr_ppi','M-aupr_similarity','M-aupr_combined',\n",
    "                                             'F1-score_ppi','F1-score_similarity','F1-score_combined',\n",
    "                                             'accuracy_ppi','accuracy_similarity','accuracy_combined'])\n",
    "    for file in file_list:\n",
    "        with open(file) as f:\n",
    "            data = json.load(f)\n",
    "        temp = file.split(\"_\")\n",
    "        graph_type = temp[-5]\n",
    "        if graph_type == \"combined\":\n",
    "            graph_type = \"ppi\"\n",
    "            attr_type = int(temp[-4])\n",
    "        elif graph_type == \"combined;similarity\":\n",
    "            graph_type = \"combined\"\n",
    "            attr_type = int(temp[-4])\n",
    "        else:\n",
    "            attr_type = int(temp[-3])\n",
    "        for metrics in ['m-aupr','M-aupr', 'F1-score', 'accuracy']:\n",
    "            df.loc[attr_type, metrics+\"_\"+graph_type] = data[ontology_range][metrics] \n",
    "    return df"
   ]
  },
  {
   "cell_type": "markdown",
   "metadata": {},
   "source": [
    "## CC"
   ]
  },
  {
   "cell_type": "markdown",
   "metadata": {},
   "source": [
    "### 11-30"
   ]
  },
  {
   "cell_type": "code",
   "execution_count": 6,
   "metadata": {},
   "outputs": [],
   "source": [
    "cc_11_30 = generate_comparison_tablee(res_cc, '11-30')\n",
    "cc_11_30.to_csv(\"results/cc_11_30.csv\",index=True)"
   ]
  },
  {
   "cell_type": "markdown",
   "metadata": {},
   "source": [
    "### 31-100"
   ]
  },
  {
   "cell_type": "code",
   "execution_count": 7,
   "metadata": {},
   "outputs": [],
   "source": [
    "cc_31_100 = generate_comparison_tablee(res_cc, '31-100')\n",
    "cc_31_100.to_csv(\"results/cc_31_100.csv\",index=True)"
   ]
  },
  {
   "cell_type": "markdown",
   "metadata": {},
   "source": [
    "### 101-300"
   ]
  },
  {
   "cell_type": "code",
   "execution_count": 8,
   "metadata": {},
   "outputs": [],
   "source": [
    "cc_101_300 = generate_comparison_tablee(res_cc, '101-300')\n",
    "cc_101_300.to_csv(\"results/cc_101_300.csv\",index=True)"
   ]
  },
  {
   "cell_type": "markdown",
   "metadata": {},
   "source": [
    "## MF"
   ]
  },
  {
   "cell_type": "markdown",
   "metadata": {},
   "source": [
    "### 11-30"
   ]
  },
  {
   "cell_type": "code",
   "execution_count": 9,
   "metadata": {},
   "outputs": [],
   "source": [
    "mf_11_30 = generate_comparison_tablee(res_mf, '11-30')\n",
    "mf_11_30.to_csv(\"results/mf_11_30.csv\",index=True)"
   ]
  },
  {
   "cell_type": "markdown",
   "metadata": {},
   "source": [
    "### 31-100"
   ]
  },
  {
   "cell_type": "code",
   "execution_count": 10,
   "metadata": {},
   "outputs": [],
   "source": [
    "mf_31_100 = generate_comparison_tablee(res_mf, '31-100')\n",
    "mf_31_100.to_csv(\"results/mf_31_100.csv\",index=True)"
   ]
  },
  {
   "cell_type": "markdown",
   "metadata": {},
   "source": [
    "### 101-300"
   ]
  },
  {
   "cell_type": "code",
   "execution_count": 11,
   "metadata": {},
   "outputs": [],
   "source": [
    "mf_101_300 = generate_comparison_tablee(res_mf, '101-300')\n",
    "mf_101_300.to_csv(\"results/mf_101_300.csv\",index=True)"
   ]
  },
  {
   "cell_type": "markdown",
   "metadata": {},
   "source": [
    "## BP"
   ]
  },
  {
   "cell_type": "markdown",
   "metadata": {},
   "source": [
    "### 11-30"
   ]
  },
  {
   "cell_type": "code",
   "execution_count": 12,
   "metadata": {},
   "outputs": [],
   "source": [
    "bp_11_30 = generate_comparison_tablee(res_bp, '11-30')\n",
    "bp_11_30.to_csv(\"results/bp_11_30.csv\",index=True)"
   ]
  },
  {
   "cell_type": "markdown",
   "metadata": {},
   "source": [
    "### 31-100"
   ]
  },
  {
   "cell_type": "code",
   "execution_count": 13,
   "metadata": {},
   "outputs": [],
   "source": [
    "bp_31_100 = generate_comparison_tablee(res_bp, '31-100')\n",
    "bp_31_100.to_csv(\"results/bp_31_100.csv\",index=True)"
   ]
  },
  {
   "cell_type": "markdown",
   "metadata": {},
   "source": [
    "### 101-300"
   ]
  },
  {
   "cell_type": "code",
   "execution_count": 14,
   "metadata": {},
   "outputs": [],
   "source": [
    "bp_101_300 = generate_comparison_tablee(res_bp, '101-300')\n",
    "bp_101_300.to_csv(\"results/bp_101_300.csv\",index=True)"
   ]
  },
  {
   "cell_type": "code",
   "execution_count": null,
   "metadata": {},
   "outputs": [],
   "source": []
  }
 ],
 "metadata": {
  "kernelspec": {
   "display_name": "Python 2.7 (Conda 5.2) [python/2.7 cuda/10.0.130]",
   "language": "python",
   "name": "sys_python27conda"
  },
  "language_info": {
   "codemirror_mode": {
    "name": "ipython",
    "version": 2
   },
   "file_extension": ".py",
   "mimetype": "text/x-python",
   "name": "python",
   "nbconvert_exporter": "python",
   "pygments_lexer": "ipython2",
   "version": "2.7.15"
  }
 },
 "nbformat": 4,
 "nbformat_minor": 2
}
